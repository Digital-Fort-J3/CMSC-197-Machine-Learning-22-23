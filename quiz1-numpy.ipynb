{
 "cells": [
  {
   "cell_type": "markdown",
   "id": "76b24b6f",
   "metadata": {},
   "source": [
    "<h1>Part 1</h1>"
   ]
  },
  {
   "cell_type": "code",
   "execution_count": 1,
   "id": "0e9bd70e",
   "metadata": {},
   "outputs": [
    {
     "name": "stdout",
     "output_type": "stream",
     "text": [
      "%pylab is deprecated, use %matplotlib inline and import the required libraries.\n",
      "Populating the interactive namespace from numpy and matplotlib\n"
     ]
    }
   ],
   "source": [
    "%pylab inline"
   ]
  },
  {
   "cell_type": "code",
   "execution_count": 2,
   "id": "9074f488",
   "metadata": {},
   "outputs": [],
   "source": [
    "np = numpy"
   ]
  },
  {
   "cell_type": "markdown",
   "id": "cdbb20f7",
   "metadata": {},
   "source": [
    "<p>Initializing numpy as np</p>"
   ]
  },
  {
   "cell_type": "markdown",
   "id": "5c519599",
   "metadata": {},
   "source": [
    "<h3> Initialization of y_hat and y </h3>"
   ]
  },
  {
   "cell_type": "code",
   "execution_count": 3,
   "id": "6b63a7ed",
   "metadata": {},
   "outputs": [],
   "source": [
    "y_hat = np.linspace(-1,1,20)\n",
    "#print(y_hat)"
   ]
  },
  {
   "cell_type": "code",
   "execution_count": 4,
   "id": "ff7c6393",
   "metadata": {},
   "outputs": [],
   "source": [
    "y = np.linspace(0,1,20)\n",
    "#print(y)"
   ]
  },
  {
   "cell_type": "markdown",
   "id": "1a2fcdc3",
   "metadata": {},
   "source": [
    "<p>The function np.linspace() is used to create the lineraly spaced numbers in the array</p>"
   ]
  },
  {
   "cell_type": "markdown",
   "id": "746b033c",
   "metadata": {},
   "source": [
    "<h3> y_hat and y Shape and Dimension Values </h3>"
   ]
  },
  {
   "cell_type": "code",
   "execution_count": 5,
   "id": "61df3ea1",
   "metadata": {},
   "outputs": [
    {
     "data": {
      "text/plain": [
       "(20,)"
      ]
     },
     "execution_count": 5,
     "metadata": {},
     "output_type": "execute_result"
    }
   ],
   "source": [
    "y_hat.shape"
   ]
  },
  {
   "cell_type": "code",
   "execution_count": 6,
   "id": "2c7ec35b",
   "metadata": {},
   "outputs": [
    {
     "data": {
      "text/plain": [
       "(20,)"
      ]
     },
     "execution_count": 6,
     "metadata": {},
     "output_type": "execute_result"
    }
   ],
   "source": [
    "y.shape"
   ]
  },
  {
   "cell_type": "code",
   "execution_count": 7,
   "id": "ac82a98c",
   "metadata": {},
   "outputs": [
    {
     "data": {
      "text/plain": [
       "1"
      ]
     },
     "execution_count": 7,
     "metadata": {},
     "output_type": "execute_result"
    }
   ],
   "source": [
    "y_hat.ndim"
   ]
  },
  {
   "cell_type": "code",
   "execution_count": 8,
   "id": "a9318b30",
   "metadata": {},
   "outputs": [
    {
     "data": {
      "text/plain": [
       "1"
      ]
     },
     "execution_count": 8,
     "metadata": {},
     "output_type": "execute_result"
    }
   ],
   "source": [
    "y.ndim"
   ]
  },
  {
   "cell_type": "markdown",
   "id": "11936547",
   "metadata": {},
   "source": [
    "<p>The function .shape were used to calculate for the shape value meanwhile the function .ndim was used to calculate for the dimension value</p>"
   ]
  },
  {
   "cell_type": "markdown",
   "id": "e970ec70",
   "metadata": {},
   "source": [
    "<h2> Mean Squared Error </h2>"
   ]
  },
  {
   "cell_type": "code",
   "execution_count": 9,
   "id": "b3991ed4",
   "metadata": {},
   "outputs": [
    {
     "data": {
      "text/plain": [
       "0.3421052631578948"
      ]
     },
     "execution_count": 9,
     "metadata": {},
     "output_type": "execute_result"
    }
   ],
   "source": [
    "def mse(a,b):\n",
    "    return sum((a-b)**2)/20\n",
    "    \n",
    "L = mse(y_hat, y)\n",
    "L"
   ]
  },
  {
   "cell_type": "markdown",
   "id": "e0e6893a",
   "metadata": {},
   "source": [
    "<p>The function sum() is used as the summation process in the formula given</p>"
   ]
  },
  {
   "cell_type": "markdown",
   "id": "195df8f5",
   "metadata": {},
   "source": [
    "<h1> Mean Absolute Error </h1>"
   ]
  },
  {
   "cell_type": "code",
   "execution_count": 10,
   "id": "e9d7cf7f",
   "metadata": {},
   "outputs": [
    {
     "data": {
      "text/plain": [
       "0.4999999999999999"
      ]
     },
     "execution_count": 10,
     "metadata": {},
     "output_type": "execute_result"
    }
   ],
   "source": [
    "def mae(a,b):\n",
    "    return sum(abs(a-b))/20\n",
    "    \n",
    "L = mae(y_hat,y)\n",
    "L"
   ]
  },
  {
   "cell_type": "markdown",
   "id": "62377d73",
   "metadata": {},
   "source": [
    "<p> The abs() function is a built-in Python function that return the absolute value of a number meanwhile sum() is used as the summation in the formula given</p>"
   ]
  },
  {
   "cell_type": "markdown",
   "id": "10817d80",
   "metadata": {},
   "source": [
    "<h1> Mean Squared Logarithmic Error </h1>"
   ]
  },
  {
   "cell_type": "code",
   "execution_count": 11,
   "id": "c6afcea7",
   "metadata": {},
   "outputs": [
    {
     "name": "stderr",
     "output_type": "stream",
     "text": [
      "C:\\Users\\DELL\\AppData\\Local\\Temp\\ipykernel_13308\\355109828.py:2: RuntimeWarning: divide by zero encountered in log\n",
      "  return sum((log(a+1)-log(b+1))**2)/20\n"
     ]
    },
    {
     "data": {
      "text/plain": [
       "inf"
      ]
     },
     "execution_count": 11,
     "metadata": {},
     "output_type": "execute_result"
    }
   ],
   "source": [
    "def msle(a,b):\n",
    "    return sum((log(a+1)-log(b+1))**2)/20\n",
    "\n",
    "L = msle(y_hat, y)\n",
    "L"
   ]
  },
  {
   "cell_type": "markdown",
   "id": "c23ba33a",
   "metadata": {},
   "source": [
    "<p>The log() function is from the Math Module allowing us to calculate for the Natural Logarithmic value meanwhile sum() is used as the summation in the formula given</p>"
   ]
  },
  {
   "cell_type": "markdown",
   "id": "70a6f07a",
   "metadata": {},
   "source": [
    "<h1> Mean Absolute Percentage Error </h1>"
   ]
  },
  {
   "cell_type": "code",
   "execution_count": 12,
   "id": "4dfaac05",
   "metadata": {},
   "outputs": [
    {
     "name": "stderr",
     "output_type": "stream",
     "text": [
      "C:\\Users\\DELL\\AppData\\Local\\Temp\\ipykernel_13308\\3434217409.py:2: RuntimeWarning: divide by zero encountered in true_divide\n",
      "  return sum(abs((a-b)/b))/20\n"
     ]
    },
    {
     "data": {
      "text/plain": [
       "inf"
      ]
     },
     "execution_count": 12,
     "metadata": {},
     "output_type": "execute_result"
    }
   ],
   "source": [
    "def mape(a,b):\n",
    "    return sum(abs((a-b)/b))/20\n",
    "\n",
    "L = mape(y_hat, y)\n",
    "L"
   ]
  },
  {
   "cell_type": "markdown",
   "id": "0c07e58c",
   "metadata": {},
   "source": [
    "<p> The abs() function is a built-in Python function that return the absolute value of a number meanwhile sum() is used as the summation in the formula given</p>"
   ]
  },
  {
   "cell_type": "markdown",
   "id": "29d25b04",
   "metadata": {},
   "source": [
    "<h1> Part 2 </h1>"
   ]
  },
  {
   "cell_type": "markdown",
   "id": "06fcb0f7",
   "metadata": {},
   "source": [
    "<h3>Creation of 1d array M</h3>"
   ]
  },
  {
   "cell_type": "code",
   "execution_count": 13,
   "id": "c7e1212c",
   "metadata": {},
   "outputs": [],
   "source": [
    "M = np.arange(1,17)\n",
    "#print(M)"
   ]
  },
  {
   "cell_type": "markdown",
   "id": "5d684d8a",
   "metadata": {},
   "source": [
    "<h3>Reshaping 1d Matrix M into a 4x4 Matrix stored in N</h3>"
   ]
  },
  {
   "cell_type": "code",
   "execution_count": 14,
   "id": "309e7249",
   "metadata": {},
   "outputs": [],
   "source": [
    "N = M.reshape(4,4)\n",
    "#N"
   ]
  },
  {
   "cell_type": "markdown",
   "id": "5e7a50a6",
   "metadata": {},
   "source": [
    "<h3>Getting the values in the 2nd row in N</h3>"
   ]
  },
  {
   "cell_type": "code",
   "execution_count": 15,
   "id": "925b9a07",
   "metadata": {},
   "outputs": [
    {
     "name": "stdout",
     "output_type": "stream",
     "text": [
      "5 6 7 8 "
     ]
    }
   ],
   "source": [
    "def secondRow(a):\n",
    "    for i in a[1]:\n",
    "        print(i, end = ' ')\n",
    "\n",
    "secondRow(N)"
   ]
  },
  {
   "cell_type": "markdown",
   "id": "f8a0abd4",
   "metadata": {},
   "source": [
    "<p>The secondRow() function will produce all the values in the 2nd row of given parameter array a. The function works by just accessing the 2nd row via indexing a[1] and then printing all the values in it</p>"
   ]
  },
  {
   "cell_type": "markdown",
   "id": "a23184fd",
   "metadata": {},
   "source": [
    "<h3>Getting the Minimum Values for each column in N</h3>"
   ]
  },
  {
   "cell_type": "code",
   "execution_count": 16,
   "id": "d72bab42",
   "metadata": {},
   "outputs": [
    {
     "name": "stdout",
     "output_type": "stream",
     "text": [
      "1 2 3 4 "
     ]
    }
   ],
   "source": [
    "def colMin(a):\n",
    "    for i in a.transpose():\n",
    "        print(min(i), end = ' ')\n",
    "\n",
    "colMin(N)"
   ]
  },
  {
   "cell_type": "markdown",
   "id": "96727378",
   "metadata": {},
   "source": [
    "<p>The colMin() function will produce all of the minimum value for each column in N. If we use the array as it is, using a \"for x in array\" will access the rows so we transpose the array first so it will access the columns instead. We then use min() to get the minimum value in accessed column and then print it</p>"
   ]
  },
  {
   "cell_type": "markdown",
   "id": "26f21dfb",
   "metadata": {},
   "source": [
    "<h3>Getting the Locations of the minimum values for each column in N</h3>"
   ]
  },
  {
   "cell_type": "code",
   "execution_count": 17,
   "id": "33fa8742",
   "metadata": {},
   "outputs": [
    {
     "name": "stdout",
     "output_type": "stream",
     "text": [
      "(1, 1) (1, 2) (1, 3) (1, 4) "
     ]
    }
   ],
   "source": [
    "def locMin(a):\n",
    "    c = 1 \n",
    "    for i in a.transpose():\n",
    "        m = min(i)\n",
    "        r = 1\n",
    "        for ii in i:\n",
    "            if ii == m:\n",
    "                print((r,c), end = ' ')\n",
    "            else:\n",
    "                r+=1\n",
    "        c+=1\n",
    "\n",
    "locMin(N)"
   ]
  },
  {
   "cell_type": "markdown",
   "id": "d48d52de",
   "metadata": {},
   "source": [
    "<p>The locMin function will produce a (i,j) result with a parameter a that accepts an array, where i is the row value and j is column value in the given matrix. If we use the array as it is, using a \"for x in array\" will access the rows so we transpose the array first so it will access the columns instead. We then use m to hold the minimum value of the accessed column by using min() function. We will use c as our column counter and r as our row counter. Next we will search for the m in the accessed column and once it is found it will print its designated index in (i,j) format by using the current r and c values</p>"
   ]
  },
  {
   "cell_type": "markdown",
   "id": "22172571",
   "metadata": {},
   "source": [
    "<h3>The Average of Matrix M and N</h3>"
   ]
  },
  {
   "cell_type": "code",
   "execution_count": 18,
   "id": "07afb387",
   "metadata": {},
   "outputs": [
    {
     "data": {
      "text/plain": [
       "8.5"
      ]
     },
     "execution_count": 18,
     "metadata": {},
     "output_type": "execute_result"
    }
   ],
   "source": [
    "np.mean(M)"
   ]
  },
  {
   "cell_type": "code",
   "execution_count": 19,
   "id": "68a5d391",
   "metadata": {},
   "outputs": [
    {
     "data": {
      "text/plain": [
       "8.5"
      ]
     },
     "execution_count": 19,
     "metadata": {},
     "output_type": "execute_result"
    }
   ],
   "source": [
    "np.mean(N)"
   ]
  },
  {
   "cell_type": "markdown",
   "id": "915b466b",
   "metadata": {},
   "source": [
    "<p>We use the mean() function to calculate the mean/average of the matrices given</p>"
   ]
  },
  {
   "cell_type": "markdown",
   "id": "d7302323",
   "metadata": {},
   "source": [
    "<h3>Creation of Vector V with 4 elements valued as 1</h3>"
   ]
  },
  {
   "cell_type": "code",
   "execution_count": 20,
   "id": "bf51a493",
   "metadata": {},
   "outputs": [],
   "source": [
    "V = np.array([1,1,1,1])"
   ]
  },
  {
   "cell_type": "markdown",
   "id": "f202299e",
   "metadata": {},
   "source": [
    "<h3>Dot Product of N and V</h3>"
   ]
  },
  {
   "cell_type": "code",
   "execution_count": 21,
   "id": "a5b1bfb2",
   "metadata": {},
   "outputs": [
    {
     "name": "stdout",
     "output_type": "stream",
     "text": [
      "[10 26 42 58]\n"
     ]
    }
   ],
   "source": [
    "def dotProd(n,v):\n",
    "    print(np.dot(n, v))\n",
    "\n",
    "dotProd(N,V)"
   ]
  },
  {
   "cell_type": "markdown",
   "id": "46ba5644",
   "metadata": {},
   "source": [
    "<p>The function dotProd takes 2 paramenter n and v wherein n is a matrix and v is a vector. It will then print the Dot Product by using np.dot()"
   ]
  },
  {
   "cell_type": "markdown",
   "id": "9f6fb06f",
   "metadata": {},
   "source": [
    "<h1>END<h2>"
   ]
  }
 ],
 "metadata": {
  "kernelspec": {
   "display_name": "Python 3 (ipykernel)",
   "language": "python",
   "name": "python3"
  },
  "language_info": {
   "codemirror_mode": {
    "name": "ipython",
    "version": 3
   },
   "file_extension": ".py",
   "mimetype": "text/x-python",
   "name": "python",
   "nbconvert_exporter": "python",
   "pygments_lexer": "ipython3",
   "version": "3.9.12"
  },
  "vscode": {
   "interpreter": {
    "hash": "52634da84371cba311ea128a5ea7cdc41ff074b781779e754b270ff9f8153cee"
   }
  }
 },
 "nbformat": 4,
 "nbformat_minor": 5
}
